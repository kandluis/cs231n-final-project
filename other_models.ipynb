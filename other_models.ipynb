{
 "cells": [
  {
   "cell_type": "code",
   "execution_count": 1,
   "metadata": {
    "collapsed": false
   },
   "outputs": [],
   "source": [
    "# A bit of setup\n",
    "\n",
    "import numpy as np\n",
    "import matplotlib.pyplot as plt\n",
    "\n",
    "from __future__ import print_function\n",
    "\n",
    "%matplotlib inline\n",
    "plt.rcParams['figure.figsize'] = (10.0, 8.0) # set default size of plots\n",
    "plt.rcParams['image.interpolation'] = 'nearest'\n",
    "plt.rcParams['image.cmap'] = 'gray'\n",
    "\n",
    "# for auto-reloading external modules\n",
    "# see http://stackoverflow.com/questions/1907993/autoreload-of-modules-in-ipython\n",
    "%load_ext autoreload\n",
    "%autoreload 2\n",
    "\n",
    "def rel_error(x, y):\n",
    "    \"\"\" returns relative error \"\"\"\n",
    "    return np.max(np.abs(x - y) / (np.maximum(1e-8, np.abs(x) + np.abs(y))))"
   ]
  },
  {
   "cell_type": "code",
   "execution_count": 2,
   "metadata": {
    "collapsed": false
   },
   "outputs": [
    {
     "name": "stdout",
     "output_type": "stream",
     "text": [
      "loading training data for synset 20 / 200\n",
      "loading training data for synset 40 / 200\n",
      "loading training data for synset 60 / 200\n",
      "loading training data for synset 80 / 200\n",
      "loading training data for synset 100 / 200\n",
      "loading training data for synset 120 / 200\n",
      "loading training data for synset 140 / 200\n",
      "loading training data for synset 160 / 200\n",
      "loading training data for synset 180 / 200\n",
      "loading training data for synset 200 / 200\n",
      "Taking 16000 of 100000 training samples\n",
      "Taking 2000 of 10000 validation samples\n",
      "Taking 2000 of 10000 test samples\n",
      "Train data shape:  (16000, 3, 64, 64)\n",
      "Train labels shape:  (16000,)\n",
      "Validation data shape:  (2000, 3, 64, 64)\n",
      "Validation labels shape:  (2000,)\n",
      "Test data shape:  (2000, 3, 64, 64)\n"
     ]
    }
   ],
   "source": [
    "from cs231_utils.data_utils import load_tiny_imagenet\n",
    "\n",
    "def get_subset_tiny_imagenet(num_training=16000, num_validation=2000, num_test=2000):\n",
    "    \"\"\"\n",
    "    Load the a subset of the tiny imagenet dataset from disk and perform preprocessing to prepare\n",
    "    it for our neural network classifiers. Also sets a seed to make sure we always get the same\n",
    "    data sets.\n",
    "    \"\"\"\n",
    "    # Set the seed.\n",
    "    np.random.seed(231)\n",
    "    \n",
    "    # Load the raw tiny imagenet data. Note this by default loads normalized image data based on\n",
    "    # then entire original sample.\n",
    "    tiny_imagenet_dir = 'datasets/tiny-imagenet-200'\n",
    "    data_dict = load_tiny_imagenet(tiny_imagenet_dir)\n",
    "    X_train, y_train, X_val, y_val, X_test, y_test = (\n",
    "        data_dict['X_train'], data_dict['y_train'],\n",
    "        data_dict['X_val'], data_dict['y_val'],\n",
    "        data_dict['X_test'], data_dict['y_test'])\n",
    "        \n",
    "    # Subsample training data.\n",
    "    assert(num_training <= X_train.shape[0])\n",
    "    print(\"Taking %s of %s training samples\" % (num_training, X_train.shape[0]))\n",
    "    mask = np.random.choice(X_train.shape[0], num_training, replace=False)\n",
    "    X_train = X_train[mask]\n",
    "    y_train = y_train[mask]\n",
    "    assert(num_validation <= X_val.shape[0])\n",
    "    print(\"Taking %s of %s validation samples\" % (num_validation, X_val.shape[0]))\n",
    "    mask = np.random.choice(X_val.shape[0], num_validation, replace=False)\n",
    "    X_val = X_val[mask]\n",
    "    y_val = y_val[mask]\n",
    "    assert(num_test <= X_test.shape[0])\n",
    "    print(\"Taking %s of %s test samples\" % (num_test, X_test.shape[0]))\n",
    "    mask = np.random.choice(X_test.shape[0], num_test, replace=False)\n",
    "    X_test = X_test[mask]\n",
    "    if y_test: y_test = y_test[mask]\n",
    "\n",
    "    return X_train, y_train, X_val, y_val, X_test, y_test\n",
    "\n",
    "\n",
    "# Invoke the above function to get our data.\n",
    "X_train, y_train, X_val, y_val, X_test, y_test = get_subset_tiny_imagenet()\n",
    "print('Train data shape: ', X_train.shape)\n",
    "print('Train labels shape: ', y_train.shape)\n",
    "print('Validation data shape: ', X_val.shape)\n",
    "print('Validation labels shape: ', y_val.shape)\n",
    "print('Test data shape: ', X_test.shape)\n",
    "if y_test:\n",
    "    print('Test labels shape: ', y_test.shape)"
   ]
  },
  {
   "cell_type": "code",
   "execution_count": 22,
   "metadata": {
    "collapsed": false
   },
   "outputs": [
    {
     "name": "stdout",
     "output_type": "stream",
     "text": [
      "loading training data for synset 20 / 20\n"
     ]
    }
   ],
   "source": [
    "# Load the actual data we want to train on based on our preprocessing script.\n",
    "tiny_imagenet_dir = 'datasets/our-imagenet-100'\n",
    "data_dict = load_tiny_imagenet(tiny_imagenet_dir)"
   ]
  },
  {
   "cell_type": "code",
   "execution_count": 25,
   "metadata": {
    "collapsed": false
   },
   "outputs": [],
   "source": [
    "X_train = data_dict['X_train']\n",
    "X_val = data_dict['X_val']\n",
    "y_train = data_dict['y_train']\n",
    "y_val = data_dict['y_val']"
   ]
  },
  {
   "cell_type": "code",
   "execution_count": 26,
   "metadata": {
    "collapsed": false
   },
   "outputs": [
    {
     "data": {
      "text/plain": [
       "(5020, 3, 64, 64)"
      ]
     },
     "execution_count": 26,
     "metadata": {},
     "output_type": "execute_result"
    }
   ],
   "source": [
    "X_train.shape"
   ]
  },
  {
   "cell_type": "code",
   "execution_count": 24,
   "metadata": {
    "collapsed": false
   },
   "outputs": [
    {
     "ename": "ModuleNotFoundError",
     "evalue": "No module named 'seaborn'",
     "output_type": "error",
     "traceback": [
      "\u001b[0;31m---------------------------------------------------------------------------\u001b[0m",
      "\u001b[0;31mModuleNotFoundError\u001b[0m                       Traceback (most recent call last)",
      "\u001b[0;32m<ipython-input-24-9d798e1694a6>\u001b[0m in \u001b[0;36m<module>\u001b[0;34m()\u001b[0m\n\u001b[1;32m      2\u001b[0m \u001b[0;32mimport\u001b[0m \u001b[0mmatplotlib\u001b[0m\u001b[0;34m.\u001b[0m\u001b[0mpyplot\u001b[0m \u001b[0;32mas\u001b[0m \u001b[0mplt\u001b[0m\u001b[0;34m\u001b[0m\u001b[0m\n\u001b[1;32m      3\u001b[0m \u001b[0;32mimport\u001b[0m \u001b[0mnumpy\u001b[0m \u001b[0;32mas\u001b[0m \u001b[0mnp\u001b[0m\u001b[0;34m\u001b[0m\u001b[0m\n\u001b[0;32m----> 4\u001b[0;31m \u001b[0;32mimport\u001b[0m \u001b[0mseaborn\u001b[0m \u001b[0;32mas\u001b[0m \u001b[0msns\u001b[0m\u001b[0;34m\u001b[0m\u001b[0m\n\u001b[0m",
      "\u001b[0;31mModuleNotFoundError\u001b[0m: No module named 'seaborn'"
     ]
    }
   ],
   "source": [
    "# Let's take a look at the data.\n",
    "import matplotlib.pyplot as plt\n",
    "import numpy as np\n",
    "import seaborn as sns"
   ]
  },
  {
   "cell_type": "code",
   "execution_count": 11,
   "metadata": {
    "collapsed": false
   },
   "outputs": [
    {
     "data": {
      "text/plain": [
       "80.0"
      ]
     },
     "execution_count": 11,
     "metadata": {},
     "output_type": "execute_result"
    }
   ],
   "source": []
  },
  {
   "cell_type": "code",
   "execution_count": 14,
   "metadata": {
    "collapsed": false
   },
   "outputs": [
    {
     "ename": "TypeError",
     "evalue": "object of type 'bool' has no len()",
     "output_type": "error",
     "traceback": [
      "\u001b[0;31m---------------------------------------------------------------------------\u001b[0m",
      "\u001b[0;31mTypeError\u001b[0m                                 Traceback (most recent call last)",
      "\u001b[0;32m<ipython-input-14-b375da4efcf5>\u001b[0m in \u001b[0;36m<module>\u001b[0;34m()\u001b[0m\n\u001b[0;32m----> 1\u001b[0;31m \u001b[0mplt\u001b[0m\u001b[0;34m.\u001b[0m\u001b[0mhist\u001b[0m\u001b[0;34m(\u001b[0m\u001b[0my_train\u001b[0m\u001b[0;34m,\u001b[0m \u001b[0mbins\u001b[0m\u001b[0;34m=\u001b[0m\u001b[0;36m200\u001b[0m\u001b[0;34m,\u001b[0m \u001b[0mcolor\u001b[0m\u001b[0;34m=\u001b[0m\u001b[0;32mTrue\u001b[0m\u001b[0;34m)\u001b[0m\u001b[0;34m\u001b[0m\u001b[0m\n\u001b[0m",
      "\u001b[0;32m/Users/nautilik/.virtualenvs/cs231n/lib/python3.6/site-packages/matplotlib/pyplot.py\u001b[0m in \u001b[0;36mhist\u001b[0;34m(x, bins, range, normed, weights, cumulative, bottom, histtype, align, orientation, rwidth, log, color, label, stacked, hold, data, **kwargs)\u001b[0m\n\u001b[1;32m   3080\u001b[0m                       \u001b[0mhisttype\u001b[0m\u001b[0;34m=\u001b[0m\u001b[0mhisttype\u001b[0m\u001b[0;34m,\u001b[0m \u001b[0malign\u001b[0m\u001b[0;34m=\u001b[0m\u001b[0malign\u001b[0m\u001b[0;34m,\u001b[0m \u001b[0morientation\u001b[0m\u001b[0;34m=\u001b[0m\u001b[0morientation\u001b[0m\u001b[0;34m,\u001b[0m\u001b[0;34m\u001b[0m\u001b[0m\n\u001b[1;32m   3081\u001b[0m                       \u001b[0mrwidth\u001b[0m\u001b[0;34m=\u001b[0m\u001b[0mrwidth\u001b[0m\u001b[0;34m,\u001b[0m \u001b[0mlog\u001b[0m\u001b[0;34m=\u001b[0m\u001b[0mlog\u001b[0m\u001b[0;34m,\u001b[0m \u001b[0mcolor\u001b[0m\u001b[0;34m=\u001b[0m\u001b[0mcolor\u001b[0m\u001b[0;34m,\u001b[0m \u001b[0mlabel\u001b[0m\u001b[0;34m=\u001b[0m\u001b[0mlabel\u001b[0m\u001b[0;34m,\u001b[0m\u001b[0;34m\u001b[0m\u001b[0m\n\u001b[0;32m-> 3082\u001b[0;31m                       stacked=stacked, data=data, **kwargs)\n\u001b[0m\u001b[1;32m   3083\u001b[0m     \u001b[0;32mfinally\u001b[0m\u001b[0;34m:\u001b[0m\u001b[0;34m\u001b[0m\u001b[0m\n\u001b[1;32m   3084\u001b[0m         \u001b[0max\u001b[0m\u001b[0;34m.\u001b[0m\u001b[0m_hold\u001b[0m \u001b[0;34m=\u001b[0m \u001b[0mwashold\u001b[0m\u001b[0;34m\u001b[0m\u001b[0m\n",
      "\u001b[0;32m/Users/nautilik/.virtualenvs/cs231n/lib/python3.6/site-packages/matplotlib/__init__.py\u001b[0m in \u001b[0;36minner\u001b[0;34m(ax, *args, **kwargs)\u001b[0m\n\u001b[1;32m   1890\u001b[0m                     warnings.warn(msg % (label_namer, func.__name__),\n\u001b[1;32m   1891\u001b[0m                                   RuntimeWarning, stacklevel=2)\n\u001b[0;32m-> 1892\u001b[0;31m             \u001b[0;32mreturn\u001b[0m \u001b[0mfunc\u001b[0m\u001b[0;34m(\u001b[0m\u001b[0max\u001b[0m\u001b[0;34m,\u001b[0m \u001b[0;34m*\u001b[0m\u001b[0margs\u001b[0m\u001b[0;34m,\u001b[0m \u001b[0;34m**\u001b[0m\u001b[0mkwargs\u001b[0m\u001b[0;34m)\u001b[0m\u001b[0;34m\u001b[0m\u001b[0m\n\u001b[0m\u001b[1;32m   1893\u001b[0m         \u001b[0mpre_doc\u001b[0m \u001b[0;34m=\u001b[0m \u001b[0minner\u001b[0m\u001b[0;34m.\u001b[0m\u001b[0m__doc__\u001b[0m\u001b[0;34m\u001b[0m\u001b[0m\n\u001b[1;32m   1894\u001b[0m         \u001b[0;32mif\u001b[0m \u001b[0mpre_doc\u001b[0m \u001b[0;32mis\u001b[0m \u001b[0;32mNone\u001b[0m\u001b[0;34m:\u001b[0m\u001b[0;34m\u001b[0m\u001b[0m\n",
      "\u001b[0;32m/Users/nautilik/.virtualenvs/cs231n/lib/python3.6/site-packages/matplotlib/axes/_axes.py\u001b[0m in \u001b[0;36mhist\u001b[0;34m(self, x, bins, range, normed, weights, cumulative, bottom, histtype, align, orientation, rwidth, log, color, label, stacked, **kwargs)\u001b[0m\n\u001b[1;32m   6161\u001b[0m             \u001b[0mcolor\u001b[0m \u001b[0;34m=\u001b[0m \u001b[0;34m[\u001b[0m\u001b[0mself\u001b[0m\u001b[0;34m.\u001b[0m\u001b[0m_get_lines\u001b[0m\u001b[0;34m.\u001b[0m\u001b[0mget_next_color\u001b[0m\u001b[0;34m(\u001b[0m\u001b[0;34m)\u001b[0m \u001b[0;32mfor\u001b[0m \u001b[0mi\u001b[0m \u001b[0;32min\u001b[0m \u001b[0mxrange\u001b[0m\u001b[0;34m(\u001b[0m\u001b[0mnx\u001b[0m\u001b[0;34m)\u001b[0m\u001b[0;34m]\u001b[0m\u001b[0;34m\u001b[0m\u001b[0m\n\u001b[1;32m   6162\u001b[0m         \u001b[0;32melse\u001b[0m\u001b[0;34m:\u001b[0m\u001b[0;34m\u001b[0m\u001b[0m\n\u001b[0;32m-> 6163\u001b[0;31m             \u001b[0mcolor\u001b[0m \u001b[0;34m=\u001b[0m \u001b[0mmcolors\u001b[0m\u001b[0;34m.\u001b[0m\u001b[0mto_rgba_array\u001b[0m\u001b[0;34m(\u001b[0m\u001b[0mcolor\u001b[0m\u001b[0;34m)\u001b[0m\u001b[0;34m\u001b[0m\u001b[0m\n\u001b[0m\u001b[1;32m   6164\u001b[0m             \u001b[0;32mif\u001b[0m \u001b[0mlen\u001b[0m\u001b[0;34m(\u001b[0m\u001b[0mcolor\u001b[0m\u001b[0;34m)\u001b[0m \u001b[0;34m!=\u001b[0m \u001b[0mnx\u001b[0m\u001b[0;34m:\u001b[0m\u001b[0;34m\u001b[0m\u001b[0m\n\u001b[1;32m   6165\u001b[0m                 \u001b[0;32mraise\u001b[0m \u001b[0mValueError\u001b[0m\u001b[0;34m(\u001b[0m\u001b[0;34m\"color kwarg must have one color per dataset\"\u001b[0m\u001b[0;34m)\u001b[0m\u001b[0;34m\u001b[0m\u001b[0m\n",
      "\u001b[0;32m/Users/nautilik/.virtualenvs/cs231n/lib/python3.6/site-packages/matplotlib/colors.py\u001b[0m in \u001b[0;36mto_rgba_array\u001b[0;34m(c, alpha)\u001b[0m\n\u001b[1;32m    233\u001b[0m         \u001b[0;32mreturn\u001b[0m \u001b[0mresult\u001b[0m\u001b[0;34m\u001b[0m\u001b[0m\n\u001b[1;32m    234\u001b[0m     \u001b[0;31m# Convert one at a time.\u001b[0m\u001b[0;34m\u001b[0m\u001b[0;34m\u001b[0m\u001b[0m\n\u001b[0;32m--> 235\u001b[0;31m     \u001b[0mresult\u001b[0m \u001b[0;34m=\u001b[0m \u001b[0mnp\u001b[0m\u001b[0;34m.\u001b[0m\u001b[0mempty\u001b[0m\u001b[0;34m(\u001b[0m\u001b[0;34m(\u001b[0m\u001b[0mlen\u001b[0m\u001b[0;34m(\u001b[0m\u001b[0mc\u001b[0m\u001b[0;34m)\u001b[0m\u001b[0;34m,\u001b[0m \u001b[0;36m4\u001b[0m\u001b[0;34m)\u001b[0m\u001b[0;34m,\u001b[0m \u001b[0mfloat\u001b[0m\u001b[0;34m)\u001b[0m\u001b[0;34m\u001b[0m\u001b[0m\n\u001b[0m\u001b[1;32m    236\u001b[0m     \u001b[0;32mfor\u001b[0m \u001b[0mi\u001b[0m\u001b[0;34m,\u001b[0m \u001b[0mcc\u001b[0m \u001b[0;32min\u001b[0m \u001b[0menumerate\u001b[0m\u001b[0;34m(\u001b[0m\u001b[0mc\u001b[0m\u001b[0;34m)\u001b[0m\u001b[0;34m:\u001b[0m\u001b[0;34m\u001b[0m\u001b[0m\n\u001b[1;32m    237\u001b[0m         \u001b[0mresult\u001b[0m\u001b[0;34m[\u001b[0m\u001b[0mi\u001b[0m\u001b[0;34m]\u001b[0m \u001b[0;34m=\u001b[0m \u001b[0mto_rgba\u001b[0m\u001b[0;34m(\u001b[0m\u001b[0mcc\u001b[0m\u001b[0;34m,\u001b[0m \u001b[0malpha\u001b[0m\u001b[0;34m)\u001b[0m\u001b[0;34m\u001b[0m\u001b[0m\n",
      "\u001b[0;31mTypeError\u001b[0m: object of type 'bool' has no len()"
     ]
    },
    {
     "data": {
      "image/png": "[encoded data removed]",
      "text/plain": [
       "<matplotlib.figure.Figure at 0x114c39198>"
      ]
     },
     "metadata": {},
     "output_type": "display_data"
    }
   ],
   "source": [
    "plt.hist(y_train, bins=200, color=True)"
   ]
  },
  {
   "cell_type": "code",
   "execution_count": 11,
   "metadata": {
    "collapsed": false
   },
   "outputs": [
    {
     "data": {
      "text/plain": [
       "array([[[[  48.73049927,   49.38504791,   49.98954773, ...,   57.38803864,\n",
       "            70.54152679,   82.86567688],\n",
       "         [  46.05381775,   46.47036743,   46.98140717, ...,   46.41033936,\n",
       "            60.75939941,   72.04730225],\n",
       "         [  43.74064636,   44.01925659,   45.6473999 , ...,   37.28752136,\n",
       "            49.63580322,   59.88773346],\n",
       "         ..., \n",
       "         [  23.11158752,   23.53777313,   25.4380188 , ...,  100.1920929 ,\n",
       "           102.33969116,  103.50766754],\n",
       "         [  21.25218964,   21.66246796,   24.48140717, ...,   99.41246796,\n",
       "           100.52049255,  101.64694214],\n",
       "         [  20.31314087,   20.72837067,   23.53529358, ...,   99.44094849,\n",
       "           100.66472626,  100.82473755]],\n",
       "\n",
       "        [[  45.0772171 ,   45.78005219,   46.48074341, ...,  -60.9861908 ,\n",
       "           -69.87033844,  -72.56282806],\n",
       "         [  42.45810699,   42.9254837 ,   43.5253067 , ...,  -70.93002319,\n",
       "           -78.62052917,  -81.34584045],\n",
       "         [  40.28392792,   40.60555267,   42.33068848, ...,  -82.95735168,\n",
       "           -87.64022064,  -90.39280701],\n",
       "         ..., \n",
       "         [ -21.74465942,  -21.24584961,  -19.20787048, ...,   37.76898956,\n",
       "            38.83872223,   39.9569931 ],\n",
       "         [ -23.65071869,  -23.16835785,  -20.23445892, ...,   37.90766144,\n",
       "            38.93422699,   40.0197525 ],\n",
       "         [ -24.61067963,  -24.11985779,  -21.19844055, ...,   39.86847687,\n",
       "            41.02507019,   41.1516037 ]],\n",
       "\n",
       "        [[  53.46041107,   54.24398041,   54.98544312, ...,  -61.58480072,\n",
       "           -56.55502319,  -51.35587311],\n",
       "         [  51.06974792,   51.58715057,   52.23129272, ...,  -73.33188629,\n",
       "           -68.10997772,  -61.93182373],\n",
       "         [  49.11461639,   49.49226379,   51.24677277, ...,  -86.15927124,\n",
       "           -79.93489838,  -75.77545166],\n",
       "         ..., \n",
       "         [ -34.03179169,  -33.44465637,  -31.37859344, ...,   31.43630981,\n",
       "            35.42964172,   36.43112946],\n",
       "         [ -36.02152252,  -35.44928741,  -32.47122192, ...,   31.50969696,\n",
       "            34.44042206,   35.42185211],\n",
       "         [ -37.09712982,  -36.51596832,  -33.52934265, ...,   30.35523987,\n",
       "            35.41780853,   35.4251709 ]]],\n",
       "\n",
       "\n",
       "       [[[ -86.26950073,  -53.61495209,  -46.01045227, ...,  -98.61196136,\n",
       "           -98.45847321,  -94.13432312],\n",
       "         [ -56.94618225,  -59.52963257,  -59.01859283, ...,   -9.58966064,\n",
       "           -83.24060059,  -89.95269775],\n",
       "         [ -48.25935364,  -70.98074341,  -69.3526001 , ...,    9.28752136,\n",
       "           -99.36419678, -111.11226654],\n",
       "         ..., \n",
       "         [-109.88841248, -114.46222687, -114.5619812 , ...,  -12.8079071 ,\n",
       "            -0.66030884,    1.50766754],\n",
       "         [ -98.74781036, -103.33753204, -108.51859283, ...,  -17.58753204,\n",
       "            -1.47950745,   -2.35305786],\n",
       "         [-110.68685913, -107.27162933, -101.46470642, ...,  -28.55905151,\n",
       "            -0.33527374,    9.82473755]],\n",
       "\n",
       "        [[ -90.9227829 ,  -58.21994781,  -50.51925659, ..., -100.9861908 ,\n",
       "          -100.87033844,  -96.56282806],\n",
       "         [ -61.54189301,  -64.0745163 ,  -63.4746933 , ...,  -11.93002319,\n",
       "           -85.62052917,  -92.34584045],\n",
       "         [ -52.71607208,  -75.39444733,  -73.66931152, ...,    7.04264832,\n",
       "          -101.64022064, -113.39280701],\n",
       "         ..., \n",
       "         [-105.74465942, -110.24584961, -110.20787048, ...,   12.76898956,\n",
       "             7.83872223,  -33.0430069 ],\n",
       "         [ -97.65071869, -102.16835785, -107.23445892, ...,   10.90766144,\n",
       "            11.93422699,  -36.9802475 ],\n",
       "         [-109.61067963, -108.11985779, -102.19844055, ...,    1.86847687,\n",
       "            14.02507019,  -23.8483963 ]],\n",
       "\n",
       "        [[-105.53958893,  -72.75601959,  -65.01455688, ..., -102.58480072,\n",
       "          -102.55502319,  -96.35587311],\n",
       "         [ -75.93025208,  -76.41284943,  -75.76870728, ...,  -13.33188629,\n",
       "           -87.10997772,  -91.93182373],\n",
       "         [ -63.88538361,  -86.50773621,  -84.75322723, ...,    5.84072876,\n",
       "          -102.93489838, -112.77545166],\n",
       "         ..., \n",
       "         [ -95.03179169,  -97.44465637,  -97.37859344, ...,    0.43630981,\n",
       "             3.42964172,  -22.56887054],\n",
       "         [ -86.02152252,  -90.44928741,  -95.47122192, ...,   -4.49030304,\n",
       "             3.44042206,  -26.57814789],\n",
       "         [ -97.09712982,  -95.51596832,  -89.52934265, ...,  -14.64476013,\n",
       "             5.41780853,  -16.5748291 ]]],\n",
       "\n",
       "\n",
       "       [[[ -38.26950073,  -37.61495209,  -27.01045227, ...,  -13.61196136,\n",
       "           -33.45847321,   -1.13432312],\n",
       "         [  -5.94618225,   -7.52963257,  -27.01859283, ...,  -14.58966064,\n",
       "           -33.24060059,  -25.95269775],\n",
       "         [ -21.25935364,  -15.98074341,  -15.3526001 , ...,  -31.71247864,\n",
       "           -31.36419678,  -24.11226654],\n",
       "         ..., \n",
       "         [  52.11158752,   19.53777313,    5.4380188 , ...,  -10.8079071 ,\n",
       "           -38.66030884,  -39.49233246],\n",
       "         [  30.25218964,   29.66246796,   41.48140717, ...,  -26.58753204,\n",
       "           -35.47950745,  -55.35305786],\n",
       "         [  41.31314087,   37.72837067,   43.53529358, ...,  -49.55905151,\n",
       "           -11.33527374,  -26.17526245]],\n",
       "\n",
       "        [[ -41.9227829 ,  -43.21994781,  -32.51925659, ...,  -21.9861908 ,\n",
       "           -41.87033844,   -9.56282806],\n",
       "         [ -11.54189301,  -13.0745163 ,  -32.4746933 , ...,  -22.93002319,\n",
       "           -41.62052917,  -34.34584045],\n",
       "         [ -26.71607208,  -21.39444733,  -20.66931152, ...,  -39.95735168,\n",
       "           -39.64022064,  -32.39280701],\n",
       "         ..., \n",
       "         [  45.25534058,   12.75415039,   -1.20787048, ...,   -9.23101044,\n",
       "           -37.16127777,  -38.0430069 ],\n",
       "         [  23.34928131,   22.83164215,   34.76554108, ...,  -25.09233856,\n",
       "           -31.06577301,  -50.9802475 ],\n",
       "         [  34.38932037,   30.88014221,   36.80155945, ...,  -48.13152313,\n",
       "            -6.97492981,  -21.8483963 ]],\n",
       "\n",
       "        [[ -33.53958893,  -33.75601959,  -23.01455688, ...,  -19.58480072,\n",
       "           -39.55502319,   -7.35587311],\n",
       "         [  -1.93025208,   -3.41284943,  -24.76870728, ...,  -20.33188629,\n",
       "           -39.10997772,  -31.93182373],\n",
       "         [ -18.88538361,  -13.50773621,  -12.75322723, ...,  -37.15927124,\n",
       "           -36.93489838,  -29.77545166],\n",
       "         ..., \n",
       "         [  57.96820831,   25.55534363,   11.62140656, ...,    0.43630981,\n",
       "           -27.57035828,  -28.56887054],\n",
       "         [  35.97847748,   35.55071259,   47.52877808, ...,  -15.49030304,\n",
       "           -22.55957794,  -42.57814789],\n",
       "         [  46.90287018,   43.48403168,   49.47065735, ...,  -38.64476013,\n",
       "             1.41780853,  -13.5748291 ]]],\n",
       "\n",
       "\n",
       "       ..., \n",
       "       [[[  48.73049927,   34.38504791,   92.98954773, ...,   81.38803864,\n",
       "            79.54152679,   71.86567688],\n",
       "         [  74.05381775,   84.47036743,   97.98140717, ...,   70.41033936,\n",
       "            71.75939941,   70.04730225],\n",
       "         [  68.74064636,  101.01925659,   84.6473999 , ...,   66.28752136,\n",
       "            74.63580322,   82.88773346],\n",
       "         ..., \n",
       "         [  20.11158752,   -1.46222687,   -2.5619812 , ...,  -28.8079071 ,\n",
       "            -8.66030884,   -5.49233246],\n",
       "         [  45.25218964,   19.66246796,   25.48140717, ...,  -28.58753204,\n",
       "           -29.47950745,   -3.35305786],\n",
       "         [   9.31314087,   37.72837067,   63.53529358, ...,   69.44094849,\n",
       "           -21.33527374,  -20.17526245]],\n",
       "\n",
       "        [[  45.0772171 ,   33.78005219,   98.48074341, ...,   91.0138092 ,\n",
       "            89.12966156,   81.43717194],\n",
       "         [  74.45810699,   88.9254837 ,  108.5253067 , ...,   78.06997681,\n",
       "            79.37947083,   77.65415955],\n",
       "         [  79.28392792,  115.60555267,  104.33068848, ...,   73.04264832,\n",
       "            81.35977936,   89.60719299],\n",
       "         ..., \n",
       "         [   4.25534058,  -17.24584961,  -15.20787048, ...,  -36.23101044,\n",
       "           -16.16127777,  -13.0430069 ],\n",
       "         [  29.34928131,    3.83164215,    9.76554108, ...,  -36.09233856,\n",
       "           -37.06577301,  -10.9802475 ],\n",
       "         [  -6.61067963,   21.88014221,   47.80155945, ...,   61.86847687,\n",
       "           -28.97492981,  -27.8483963 ]],\n",
       "\n",
       "        [[  43.46041107,   37.24398041,  109.98544312, ...,  115.41519928,\n",
       "           111.44497681,  103.64412689],\n",
       "         [  80.06974792,   99.58715057,  125.23129272, ...,  101.66811371,\n",
       "           102.89002228,  101.06817627],\n",
       "         [  96.11461639,  134.49226379,  129.24676514, ...,   94.84072876,\n",
       "           103.06510162,  111.22454834],\n",
       "         ..., \n",
       "         [  -2.03179169,  -23.44465637,  -22.37859344, ...,  -32.56369019,\n",
       "           -12.57035828,   -9.56887054],\n",
       "         [  22.97847748,   -2.44928741,    3.52877808, ...,  -32.49030304,\n",
       "           -33.55957794,   -7.57814789],\n",
       "         [ -13.09712982,   15.48403168,   41.47065735, ...,   65.35523987,\n",
       "           -25.58219147,  -24.5748291 ]]],\n",
       "\n",
       "\n",
       "       [[[-121.26950073, -118.61495209, -115.01045227, ..., -122.61196136,\n",
       "          -115.45847321, -119.13432312],\n",
       "         [-120.94618225, -119.52963257, -121.01859283, ..., -122.58966064,\n",
       "          -115.24060059, -120.95269775],\n",
       "         [-116.25935364, -117.98074341, -122.3526001 , ..., -122.71247864,\n",
       "          -114.36419678, -122.11226654],\n",
       "         ..., \n",
       "         [ -38.88841248,  -94.46222687,  -42.5619812 , ...,  -12.8079071 ,\n",
       "          -110.66030884, -114.49233246],\n",
       "         [ -88.74781036,  -90.33753204,  -53.51859283, ...,   64.41246796,\n",
       "           -94.47950745, -114.35305786],\n",
       "         [-101.68685913, -108.27162933,   39.53529358, ...,   16.44094849,\n",
       "           -11.33527374, -108.17526245]],\n",
       "\n",
       "        [[-120.9227829 , -118.21994781, -114.51925659, ..., -120.9861908 ,\n",
       "          -113.87033844, -117.56282806],\n",
       "         [-120.54189301, -119.0745163 , -120.4746933 , ..., -120.93002319,\n",
       "          -113.62052917, -119.34584045],\n",
       "         [-115.71607208, -117.39444733, -121.66931152, ..., -120.95735168,\n",
       "          -112.64022064, -120.39280701],\n",
       "         ..., \n",
       "         [ -41.74465942,  -97.24584961,  -45.20787048, ...,   -8.23101044,\n",
       "          -106.16127777, -110.0430069 ],\n",
       "         [ -93.65071869,  -95.16835785,  -58.23445892, ...,   68.90766144,\n",
       "           -90.06577301, -109.9802475 ],\n",
       "         [-106.61067963, -110.11985779,   34.80155945, ...,   20.86847687,\n",
       "            -6.97492981, -103.8483963 ]],\n",
       "\n",
       "        [[-113.53958893, -112.75601959, -109.01455688, ..., -109.58480072,\n",
       "          -102.55502319, -106.35587311],\n",
       "         [-113.93025208, -113.41284943, -114.76870728, ..., -111.33188629,\n",
       "          -104.10997772, -109.93182373],\n",
       "         [-109.88538361, -111.50773621, -114.75322723, ..., -111.15927124,\n",
       "          -102.93489838, -110.77545166],\n",
       "         ..., \n",
       "         [ -32.03179169,  -87.44465637,  -35.37859344, ...,    0.43630981,\n",
       "           -97.57035828,  -97.56887054],\n",
       "         [ -83.02152252,  -84.44928741,  -47.47122192, ...,   77.50969696,\n",
       "           -79.55957794,  -97.57814789],\n",
       "         [ -96.09712982,  -97.51596832,   45.47065735, ...,   29.35523987,\n",
       "             3.41780853,  -93.5748291 ]]],\n",
       "\n",
       "\n",
       "       [[[  92.73049927,   89.38504791,  122.98954773, ...,   52.38803864,\n",
       "           132.54153442,  132.86567688],\n",
       "         [  57.05381775,  126.47036743,   97.98140717, ...,   79.41033936,\n",
       "           131.75939941,  132.04730225],\n",
       "         [  68.74064636,   66.01925659,  115.6473999 , ...,   96.28752136,\n",
       "           131.63580322,  131.88772583],\n",
       "         ..., \n",
       "         [  69.11158752,   70.53777313,   72.4380188 , ...,  123.1920929 ,\n",
       "           128.33969116,  107.50766754],\n",
       "         [  72.25218964,   63.66246796,   54.48140717, ...,    1.41246796,\n",
       "            92.52049255,  135.64694214],\n",
       "         [  34.31314087,    6.72837067,  -32.46470642, ...,  -17.55905151,\n",
       "            27.66472626,  -27.17526245]],\n",
       "\n",
       "        [[  78.0772171 ,   81.78005219,  123.48074341, ...,   21.0138092 ,\n",
       "           107.12966156,  119.43717194],\n",
       "         [  46.45810699,  123.9254837 ,  101.5253067 , ...,   52.06997681,\n",
       "           121.37947083,  120.65415955],\n",
       "         [  61.28392792,   63.60555267,  121.33068848, ...,   74.04264832,\n",
       "           118.35977936,  119.60719299],\n",
       "         ..., \n",
       "         [  56.25534058,   57.75415039,   61.79212952, ...,  135.76898193,\n",
       "           141.8387146 ,  122.9569931 ],\n",
       "         [  51.34928131,   44.83164215,   40.76554108, ...,    6.90766144,\n",
       "            98.93422699,  142.01974487],\n",
       "         [   5.38932037,  -19.11985779,  -54.19844055, ...,  -12.13152313,\n",
       "            33.02507019,  -21.8483963 ]],\n",
       "\n",
       "        [[ 126.46041107,  128.24398804,  140.98544312, ...,   29.41519928,\n",
       "           115.44497681,  128.64413452],\n",
       "         [  68.06974792,  140.5871582 ,  118.23129272, ...,   58.66811371,\n",
       "           128.89001465,  129.06817627],\n",
       "         [  66.11461639,   66.49226379,  122.24677277, ...,   91.84072876,\n",
       "           139.06509399,  140.22454834],\n",
       "         ..., \n",
       "         [  18.96820831,   20.55534363,   22.62140656, ...,  157.43630981,\n",
       "           157.42964172,  157.43112183],\n",
       "         [  26.97847748,   19.55071259,   13.52877808, ...,   43.50969696,\n",
       "           139.44042969,  157.42184448],\n",
       "         [  -9.09712982,  -34.51596832,  -70.52934265, ...,    2.35523987,\n",
       "            53.41780853,    2.4251709 ]]]], dtype=float32)"
      ]
     },
     "execution_count": 11,
     "metadata": {},
     "output_type": "execute_result"
    }
   ],
   "source": [
    "# use pretrained ResNet and SqueezeNet models to measure baseline classification\n",
    "# The are trained in the full data set."
   ]
  },
  {
   "cell_type": "code",
   "execution_count": 3,
   "metadata": {
    "collapsed": true
   },
   "outputs": [],
   "source": [
    "import torchvision.models as models\n",
    "\n",
    "# Random weights\n",
    "resnet18_random = models.resnet18()\n",
    "squeezenet_random = models.squeezenet1_0()"
   ]
  },
  {
   "cell_type": "code",
   "execution_count": 4,
   "metadata": {
    "collapsed": false
   },
   "outputs": [
    {
     "name": "stderr",
     "output_type": "stream",
     "text": [
      "Downloading: \"https://download.pytorch.org/models/resnet18-5c106cde.pth\" to /Users/nautilik/.torch/models/resnet18-5c106cde.pth\n",
      "100.0%\n",
      "Downloading: \"https://download.pytorch.org/models/squeezenet1_0-a815701f.pth\" to /Users/nautilik/.torch/models/squeezenet1_0-a815701f.pth\n",
      "100.0%\n"
     ]
    }
   ],
   "source": [
    "# Pre-trained\n",
    "resnet18_trained = models.resnet18(pretrained=True)\n",
    "squeezenet_trained = models.squeezenet1_0(pretrained=True)"
   ]
  },
  {
   "cell_type": "code",
   "execution_count": null,
   "metadata": {
    "collapsed": true
   },
   "outputs": [],
   "source": []
  }
 ],
 "metadata": {
  "kernelspec": {
   "display_name": "cs231n",
   "language": "python",
   "name": "cs231n"
  },
  "language_info": {
   "codemirror_mode": {
    "name": "ipython",
    "version": 3
   },
   "file_extension": ".py",
   "mimetype": "text/x-python",
   "name": "python",
   "nbconvert_exporter": "python",
   "pygments_lexer": "ipython3",
   "version": "3.6.1"
  }
 },
 "nbformat": 4,
 "nbformat_minor": 0
}
