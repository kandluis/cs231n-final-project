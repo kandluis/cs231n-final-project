{
 "cells": [
  {
   "cell_type": "code",
   "execution_count": 1,
   "metadata": {
    "collapsed": false
   },
   "outputs": [],
   "source": [
    "# A bit of setup\n",
    "\n",
    "import numpy as np\n",
    "import matplotlib.pyplot as plt\n",
    "\n",
    "from __future__ import print_function\n",
    "\n",
    "%matplotlib inline\n",
    "plt.rcParams['figure.figsize'] = (10.0, 8.0) # set default size of plots\n",
    "plt.rcParams['image.interpolation'] = 'nearest'\n",
    "plt.rcParams['image.cmap'] = 'gray'\n",
    "\n",
    "# for auto-reloading external modules\n",
    "# see http://stackoverflow.com/questions/1907993/autoreload-of-modules-in-ipython\n",
    "%load_ext autoreload\n",
    "%autoreload 2\n",
    "\n",
    "def rel_error(x, y):\n",
    "    \"\"\" returns relative error \"\"\"\n",
    "    return np.max(np.abs(x - y) / (np.maximum(1e-8, np.abs(x) + np.abs(y))))"
   ]
  },
  {
   "cell_type": "code",
   "execution_count": null,
   "metadata": {
    "collapsed": false
   },
   "outputs": [
    {
     "name": "stdout",
     "output_type": "stream",
     "text": [
      "loading training data for synset 20 / 200\n",
      "loading training data for synset 40 / 200\n",
      "loading training data for synset 60 / 200\n",
      "loading training data for synset 80 / 200\n",
      "loading training data for synset 100 / 200\n",
      "loading training data for synset 120 / 200\n",
      "loading training data for synset 140 / 200\n",
      "loading training data for synset 160 / 200\n",
      "loading training data for synset 180 / 200\n",
      "loading training data for synset 200 / 200\n",
      "Taking 16000 of 100000 training samples\n",
      "Taking 2000 of 10000 validation samples"
     ]
    }
   ],
   "source": [
    "from cs231_utils.data_utils import load_tiny_imagenet\n",
    "\n",
    "def get_subset_tiny_imagenet(num_training=16000, num_validation=2000, num_test=2000):\n",
    "    \"\"\"\n",
    "    Load the a subset of the tiny imagenet dataset from disk and perform preprocessing to prepare\n",
    "    it for our neural network classifiers. Also sets a seed to make sure we always get the same\n",
    "    data sets.\n",
    "    \"\"\"\n",
    "    # Set the seed.\n",
    "    np.random.seed(231)\n",
    "    \n",
    "    # Load the raw tiny imagenet data. Note this by default loads normalized image data based on\n",
    "    # then entire original sample.\n",
    "    tiny_imagenet_dir = 'datasets/tiny-imagenet-200'\n",
    "    data_dict = load_tiny_imagenet(tiny_imagenet_dir)\n",
    "    X_train, y_train, X_val, y_val, X_test, y_test = (\n",
    "        data_dict['X_train'], data_dict['y_train'],\n",
    "        data_dict['X_val'], data_dict['y_val'],\n",
    "        data_dict['X_test'], data_dict['y_test'])\n",
    "        \n",
    "    # Subsample training data.\n",
    "    assert(num_training <= X_train.shape[0])\n",
    "    print(\"Taking %s of %s training samples\" % (num_training, X_train.shape[0]))\n",
    "    mask = np.random.choice(X_train.shape[0], num_training, replace=False)\n",
    "    X_train = X_train[mask]\n",
    "    y_train = y_train[mask]\n",
    "    assert(num_validation <= X_val.shape[0])\n",
    "    print(\"Taking %s of %s validation samples\" % (num_validation, X_val.shape[0]))\n",
    "    mask = np.random.choice(X_val.shape[0], num_validation, replace=False)\n",
    "    X_val = X_val[mask]\n",
    "    y_val = y_val[mask]\n",
    "    assert(num_test <= X_test.shape[0])\n",
    "    print(\"Taking %s of %s test samples\" % (num_test, X_test.shape[0]))\n",
    "    mask = np.random.choice(X_test.shape[0], num_test, replace=False)\n",
    "    X_test = X_test[mask]\n",
    "    if y_test: y_test = y_test[mask]\n",
    "\n",
    "    return X_train, y_train, X_val, y_val, X_test, y_test\n",
    "\n",
    "\n",
    "# Invoke the above function to get our data.\n",
    "X_train, y_train, X_val, y_val, X_test, y_test = get_subset_tiny_imagenet()\n",
    "print('Train data shape: ', X_train.shape)\n",
    "print('Train labels shape: ', y_train.shape)\n",
    "print('Validation data shape: ', X_val.shape)\n",
    "print('Validation labels shape: ', y_val.shape)\n",
    "print('Test data shape: ', X_test.shape)\n",
    "if y_test:\n",
    "    print('Test labels shape: ', y_test.shape)"
   ]
  },
  {
   "cell_type": "code",
   "execution_count": null,
   "metadata": {
    "collapsed": true
   },
   "outputs": [],
   "source": []
  }
 ],
 "metadata": {
  "kernelspec": {
   "display_name": "cs231n",
   "language": "python",
   "name": "cs231n"
  },
  "language_info": {
   "codemirror_mode": {
    "name": "ipython",
    "version": 3
   },
   "file_extension": ".py",
   "mimetype": "text/x-python",
   "name": "python",
   "nbconvert_exporter": "python",
   "pygments_lexer": "ipython3",
   "version": "3.6.1"
  }
 },
 "nbformat": 4,
 "nbformat_minor": 0
}
